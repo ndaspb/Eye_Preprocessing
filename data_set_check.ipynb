{
 "cells": [
  {
   "cell_type": "markdown",
   "metadata": {
    "id": "kEsHWyFJX6xD"
   },
   "source": [
    "# Преобразование обучающих изображений"
   ]
  },
  {
   "cell_type": "code",
   "execution_count": 2,
   "metadata": {
    "colab": {
     "base_uri": "https://localhost:8080/"
    },
    "id": "Gzuv2run9Yxa",
    "outputId": "5bb9661e-9ed7-4d37-af07-9c93bc0f55a4"
   },
   "outputs": [],
   "source": [
    "import albumentations as albu\n",
    "from albumentations.pytorch import ToTensorV2\n",
    "import os\n",
    "\n",
    "import pandas as pd \n",
    "import numpy as np\n",
    "import glob\n",
    "from tqdm import tqdm\n",
    "import cv2\n",
    "from sklearn.model_selection import train_test_split\n",
    "# !pip install fiona+\n",
    "import fiona\n",
    "# !pip install segmentation_models_pytorch\n",
    "import segmentation_models_pytorch as smp\n",
    "\n",
    "import torch\n",
    "import torch.nn as nn\n",
    "import torch.optim as optim\n",
    "from torch.utils.data import Dataset\n",
    "from torchvision import datasets, models, transforms\n",
    "from torchvision.models import resnet18\n",
    "from torchvision.utils import draw_segmentation_masks\n",
    "\n",
    "from PIL import Image\n",
    "import matplotlib.pyplot as plt\n",
    "from IPython.display import clear_output\n",
    "\n",
    "import warnings\n",
    "warnings.filterwarnings(\"ignore\")\n",
    "\n",
    "import json"
   ]
  },
  {
   "cell_type": "markdown",
   "metadata": {
    "id": "l5MpBxb2MjsO"
   },
   "source": [
    "## Датасет трейновых изображений + преобразование geojson to PNG"
   ]
  },
  {
   "cell_type": "code",
   "execution_count": 6,
   "metadata": {
    "id": "IS7LtxhL8WWh"
   },
   "outputs": [],
   "source": [
    "class EyeDataset(Dataset):\n",
    "    \"\"\"\n",
    "    Класс датасета, организующий загрузку и получение изображений и соответствующих разметок\n",
    "    \"\"\"\n",
    "\n",
    "    def __init__(self, data_folder: str, transform = None):\n",
    "        self.class_ids = {\"vessel\": 1}\n",
    "\n",
    "        self.data_folder = data_folder\n",
    "        self.transform = transform\n",
    "        self._image_files = glob.glob(f\"{data_folder}/*.png\")\n",
    "\n",
    "    @staticmethod\n",
    "    def read_image(path: str) -> np.ndarray:\n",
    "        image = cv2.imread(str(path), cv2.IMREAD_COLOR)\n",
    "        image = cv2.cvtColor(image, cv2.COLOR_BGR2RGB)\n",
    "        image = np.array(image / 255, dtype=np.float32)\n",
    "        return image\n",
    "\n",
    "    @staticmethod \n",
    "    def parse_polygon(coordinates, image_size): \n",
    "        mask = np.zeros(image_size, dtype=np.float32) \n",
    "    \n",
    "        if len(coordinates) == 1: \n",
    "            points = [np.int32(coordinates)] \n",
    "            cv2.fillPoly(mask, points, 1) \n",
    "        else: \n",
    "            points = [np.int32([coordinates[0]])] \n",
    "            cv2.fillPoly(mask, points, 1) \n",
    "    \n",
    "            for polygon in coordinates[1:]: \n",
    "                points = [np.int32([polygon])] \n",
    "                cv2.fillPoly(mask, points, 0) \n",
    "    \n",
    "        return mask\n",
    "\n",
    "    @staticmethod\n",
    "    def parse_mask(shape: dict, image_size: tuple) -> np.ndarray:\n",
    "        \"\"\"\n",
    "        Метод для парсинга фигур из geojson файла\n",
    "        \"\"\"\n",
    "        mask = np.zeros(image_size, dtype=np.float32)\n",
    "        coordinates = shape['coordinates']\n",
    "        if shape['type'] == 'MultiPolygon':\n",
    "            for polygon in coordinates:\n",
    "                mask += EyeDataset.parse_polygon(polygon, image_size)\n",
    "        else:\n",
    "            mask += EyeDataset.parse_polygon(coordinates, image_size)\n",
    "\n",
    "        return mask\n",
    "\n",
    "    def read_layout(self, path: str, image_size: tuple) -> np.ndarray:\n",
    "        \"\"\"\n",
    "        Метод для чтения geojson разметки и перевода в numpy маску\n",
    "        \"\"\"\n",
    "        with open(path, 'r', encoding='cp1251') as f:  # some files contain cyrillic letters, thus cp1251\n",
    "            json_contents = json.load(f)\n",
    "\n",
    "        num_channels = 1 + max(self.class_ids.values())\n",
    "        mask_channels = [np.zeros(image_size, dtype=np.float32) for _ in range(num_channels)]\n",
    "        mask = np.zeros(image_size, dtype=np.float32)\n",
    "\n",
    "        if type(json_contents) == dict and json_contents['type'] == 'FeatureCollection':\n",
    "            features = json_contents['features']\n",
    "        elif type(json_contents) == list:\n",
    "            features = json_contents\n",
    "        else:\n",
    "            features = [json_contents]\n",
    "\n",
    "        for shape in features:\n",
    "            channel_id = self.class_ids[\"vessel\"]\n",
    "            mask = self.parse_mask(shape['geometry'], image_size)\n",
    "            mask_channels[channel_id] = np.maximum(mask_channels[channel_id], mask)\n",
    "\n",
    "        mask_channels[0] = 1 - np.max(mask_channels[1:], axis=0)\n",
    "\n",
    "        return np.stack(mask_channels, axis=-1) #mask_channels\n",
    "#         return mask\n",
    "\n",
    "    def __getitem__(self, idx: int) -> dict:\n",
    "        # Достаём имя файла по индексу\n",
    "        image_path = self._image_files[idx]\n",
    "\n",
    "        # Получаем соответствующий файл разметки\n",
    "        json_path = image_path.replace(\"png\", \"geojson\")\n",
    "        \n",
    "        image = self.read_image(image_path)\n",
    "        \n",
    "        if os.path.isfile(json_path):\n",
    "            mask = self.read_layout(json_path, image.shape[:2])\n",
    "            sample = {'image': image,\n",
    "                     'mask': mask}\n",
    "            if self.transform is not None:\n",
    "                sample = self.transform(**sample)\n",
    "\n",
    "            return sample\n",
    "\n",
    "\n",
    "    def __len__(self):\n",
    "        return len(self._image_files)\n"
   ]
  },
  {
   "cell_type": "code",
   "execution_count": 7,
   "metadata": {
    "id": "5vqgjSAyMwT4"
   },
   "outputs": [],
   "source": [
    "# Инициализируем датасет\n",
    "dataset = EyeDataset(\"train\")"
   ]
  },
  {
   "cell_type": "code",
   "execution_count": 9,
   "metadata": {
    "scrolled": true
   },
   "outputs": [
    {
     "name": "stderr",
     "output_type": "stream",
     "text": [
      "  0%|                                                                                          | 0/651 [00:01<?, ?it/s]\n"
     ]
    }
   ],
   "source": [
    "count = 0\n",
    "for i in tqdm(dataset):\n",
    "    if i != None:\n",
    "        mask = i['mask']\n",
    "        mask = mask[:,:,1]\n",
    "        mask *= 255\n",
    "        mask = mask.astype(np.uint8)\n",
    "        image = i['image']\n",
    "        image = cv2.normalize(image, None, 0, 255, cv2.NORM_MINMAX, cv2.CV_8U)\n",
    "        result_m = Image.fromarray((mask).astype(np.uint8))\n",
    "        result_i = Image.fromarray((image).astype(np.uint8))        \n",
    "        result_i.save(f'data/all_sorted_data/{count}i.png')\n",
    "        result_m.save(f'data/all_sorted_data/{count}m.png')\n",
    "\n",
    "            \n",
    "        count += 1\n",
    "        "
   ]
  },
  {
   "cell_type": "code",
   "execution_count": null,
   "metadata": {},
   "outputs": [],
   "source": []
  }
 ],
 "metadata": {
  "accelerator": "GPU",
  "colab": {
   "collapsed_sections": [],
   "provenance": []
  },
  "kernelspec": {
   "display_name": "Python 3 (ipykernel)",
   "language": "python",
   "name": "python3"
  },
  "language_info": {
   "codemirror_mode": {
    "name": "ipython",
    "version": 3
   },
   "file_extension": ".py",
   "mimetype": "text/x-python",
   "name": "python",
   "nbconvert_exporter": "python",
   "pygments_lexer": "ipython3",
   "version": "3.9.13"
  }
 },
 "nbformat": 4,
 "nbformat_minor": 1
}
